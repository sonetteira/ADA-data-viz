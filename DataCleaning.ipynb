{
 "cells": [
  {
   "cell_type": "code",
   "execution_count": 1,
   "metadata": {
    "collapsed": true
   },
   "outputs": [],
   "source": [
    "#import relevant librarys\n",
    "import numpy as np\n",
    "import pandas as pd\n",
    "import math\n",
    "import csv\n",
    "import re\n",
    "import matplotlib.pyplot as pp\n",
    "import seaborn\n",
    "import urllib.request\n",
    "import datetime as dt\n",
    "from sklearn.metrics import r2_score\n",
    "%matplotlib inline"
   ]
  },
  {
   "cell_type": "code",
   "execution_count": null,
   "metadata": {
    "collapsed": true
   },
   "outputs": [],
   "source": [
    "def parsefile(filename):\n",
    "    return pd.read_csv(filename, sep=',', header=0)"
   ]
  },
  {
   "cell_type": "code",
   "execution_count": null,
   "metadata": {
    "collapsed": true
   },
   "outputs": [],
   "source": [
    "data = parsefile(\"newdata.csv\")"
   ]
  },
  {
   "cell_type": "code",
   "execution_count": null,
   "metadata": {},
   "outputs": [],
   "source": [
    "print(data.size)\n",
    "data"
   ]
  },
  {
   "cell_type": "code",
   "execution_count": null,
   "metadata": {
    "collapsed": true
   },
   "outputs": [],
   "source": [
    "checks = pd.DataFrame(columns=data.columns.values)\n",
    "checks[\"Temp\"] = [404404, -100, 100]\n",
    "checks[\"pH\"] = [404404, 0, 14]\n",
    "checks[\"pHmv\"] = [404404, -400, 400]\n",
    "checks[\"Cond\"] = [404404, 0, 54000]\n",
    "checks[\"DOpct\"] = [404404, 0, 300]\n",
    "checks[\"DOmgl\"] = [404404, 0, 24.79]\n",
    "checks[\"DOgain\"] = [-999, 0, 0]\n",
    "checks[\"Turbidity\"] = [404404, 0, 500]\n",
    "checks[\"Depth\"] = [404404, 0, 5]"
   ]
  },
  {
   "cell_type": "code",
   "execution_count": null,
   "metadata": {},
   "outputs": [],
   "source": [
    "checks"
   ]
  },
  {
   "cell_type": "code",
   "execution_count": null,
   "metadata": {},
   "outputs": [],
   "source": [
    "col = \"Temp\"\n",
    "temp = data.copy()\n",
    "for i, datum in enumerate(data[col]):\n",
    "    if(not np.isnan(checks[col][0])):\n",
    "        if(datum==checks[col][0] or datum < checks[col][1] or datum > checks[col][2]):\n",
    "            temp[col][i] = float('NaN')\n",
    "temp"
   ]
  },
  {
   "cell_type": "code",
   "execution_count": null,
   "metadata": {
    "collapsed": true
   },
   "outputs": [],
   "source": [
    "def clean(data, checks):\n",
    "    cleanData = data\n",
    "    for col in data.columns.values:\n",
    "        for i, datum in enumerate(data[col]):\n",
    "            if(not np.isnan(checks[col][0])):\n",
    "                if (datum==checks[col][0] or datum < checks[col][1] or datum > checks[col][2]):\n",
    "                    cleanData[col][i] = float('NaN')\n",
    "        print(col)\n",
    "    return data"
   ]
  },
  {
   "cell_type": "code",
   "execution_count": null,
   "metadata": {},
   "outputs": [],
   "source": [
    "cleanData = clean(data, checks)\n",
    "cleanData"
   ]
  },
  {
   "cell_type": "code",
   "execution_count": null,
   "metadata": {
    "collapsed": true
   },
   "outputs": [],
   "source": [
    "cleanData.to_csv(\"newcleandata.csv\")"
   ]
  },
  {
   "cell_type": "code",
   "execution_count": null,
   "metadata": {
    "collapsed": true
   },
   "outputs": [],
   "source": []
  }
 ],
 "metadata": {
  "kernelspec": {
   "display_name": "Python 3",
   "language": "python",
   "name": "python3"
  },
  "language_info": {
   "codemirror_mode": {
    "name": "ipython",
    "version": 3
   },
   "file_extension": ".py",
   "mimetype": "text/x-python",
   "name": "python",
   "nbconvert_exporter": "python",
   "pygments_lexer": "ipython3",
   "version": "3.6.3"
  }
 },
 "nbformat": 4,
 "nbformat_minor": 2
}
